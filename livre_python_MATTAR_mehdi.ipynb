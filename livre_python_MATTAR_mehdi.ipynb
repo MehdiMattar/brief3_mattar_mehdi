{
 "cells": [
  {
   "cell_type": "code",
   "execution_count": null,
   "id": "ebe4696b-0421-49fb-870d-50e78ce02979",
   "metadata": {},
   "outputs": [],
   "source": [
    "#Chapitre 1\n",
    "#Exercise 1 :  Mailing Address\n",
    "# Createaprogramthatdisplaysyournameandcompletemailingaddress.The address\n",
    "# should be printed in the format that is normally used in the area where you live. Your\n",
    "# program does not need to read any input from the user."
   ]
  },
  {
   "cell_type": "code",
   "execution_count": 11,
   "id": "7b8b7db8-e2c9-4ec3-ba78-238b07ae6ff3",
   "metadata": {},
   "outputs": [
    {
     "name": "stdout",
     "output_type": "stream",
     "text": [
      " Mattar Mehdi \n",
      " 100 rue de zebulon \n",
      " Pays de Narnia \n",
      " NEPTUNE\n"
     ]
    }
   ],
   "source": [
    "Name = \" Mattar Mehdi\"\n",
    "adresse1 = \"100 rue de zebulon\"\n",
    "adresse2 = \"Pays de Narnia\"\n",
    "adresse3 = \"NEPTUNE\"\n",
    "print(Name,\"\\n\",adresse1, \"\\n\",adresse2, \"\\n\",adresse3)\n"
   ]
  },
  {
   "cell_type": "code",
   "execution_count": null,
   "id": "0ae6d34f-b3ff-4133-8505-9804e885f4b5",
   "metadata": {},
   "outputs": [],
   "source": [
    "#Exercise 2 :  Say Hello\n",
    "#Write a program that asks the user to enter his or her name. The program should\n",
    "#respond with a message that says hello to the user, using his or her name."
   ]
  },
  {
   "cell_type": "code",
   "execution_count": 13,
   "id": "4c01dd7e-208d-4967-9a8d-d5d17f97aa98",
   "metadata": {},
   "outputs": [
    {
     "name": "stdin",
     "output_type": "stream",
     "text": [
      "please insert name here : KAPITAIN\n"
     ]
    },
    {
     "name": "stdout",
     "output_type": "stream",
     "text": [
      "HELLO KAPITAIN\n"
     ]
    }
   ],
   "source": [
    "Name = input(\"please insert name here :\")\n",
    "print(\"HELLO\", Name)"
   ]
  },
  {
   "cell_type": "code",
   "execution_count": null,
   "id": "359639c6-ce59-4180-93ec-02482355bd5d",
   "metadata": {},
   "outputs": [],
   "source": [
    "#Exercise 3: Area of a Room\n",
    "# Write a program that asks the user to enter the width and length of a room. Once\n",
    "#these values have been read, your program should compute and display the area of\n",
    "#the room.Thelengthandthewidthwillbeenteredasfloating-pointnumbers.Include\n",
    "#units in your prompt and output message; either feet or meters, depending on which\n",
    "#unit you are more comfortable working with"
   ]
  },
  {
   "cell_type": "code",
   "execution_count": 15,
   "id": "dc9bc0e7-871b-4e32-94f4-e46c23de7b1c",
   "metadata": {},
   "outputs": [
    {
     "name": "stdin",
     "output_type": "stream",
     "text": [
      "Insert width in meters here : 5\n",
      "Insert length in meters here : 6\n"
     ]
    },
    {
     "name": "stdout",
     "output_type": "stream",
     "text": [
      "the area of the room is 30.0 square meters\n"
     ]
    }
   ],
   "source": [
    "width = float(input(\"Insert width of room in meters here :\"))\n",
    "length = float(input(\"Insert length of room in meters here :\"))\n",
    "area = width*length\n",
    "print(\"the area of the room is\",area, \"square meters\")"
   ]
  },
  {
   "cell_type": "code",
   "execution_count": null,
   "id": "5f767781-bfb7-4244-851e-b08d27ae0bad",
   "metadata": {},
   "outputs": [],
   "source": [
    "#Exercise 4: Area of a Field\n",
    "#Create a program that reads the length and width of a farmer’s field from the user in\n",
    "#feet. Display the area of the field in acres.\n",
    "#Hint: There are 43,560 square feet in an acre"
   ]
  },
  {
   "cell_type": "code",
   "execution_count": 17,
   "id": "0dde5530-8f53-443b-904c-6d83de8b39c7",
   "metadata": {},
   "outputs": [
    {
     "name": "stdin",
     "output_type": "stream",
     "text": [
      "Insert width of field in feet here : 600\n",
      "Insert length of field in feet here : 700\n"
     ]
    },
    {
     "name": "stdout",
     "output_type": "stream",
     "text": [
      "the area of the field is 9.641873278236915 acres\n"
     ]
    }
   ],
   "source": [
    "width = float(input(\"Insert width of field in feet here :\"))\n",
    "length = float(input(\"Insert length of field in feet here :\"))\n",
    "area = width*length\n",
    "area_in_acres = area/43560\n",
    "print(\"the area of the field is\",area_in_acres, \"acres\")"
   ]
  },
  {
   "cell_type": "code",
   "execution_count": null,
   "id": "b51a0d5b-7ee0-471b-a6fc-7714eac4780d",
   "metadata": {},
   "outputs": [],
   "source": [
    "#Exercise 5: Bottle Deposits\n",
    "# Inmanyjurisdictionsasmalldepositisaddedtodrinkcontainerstoencouragepeople\n",
    "# to recycle them. In one particular jurisdiction, drink containers holding one liter or\n",
    "# less have a $0.10 deposit, and drink containers holding more than one liter have a\n",
    "# $0.25 deposit.\n",
    "# Write a program that reads the number of containers of each size from the user.\n",
    "# Your program should continue by computing and displaying the refund that will be\n",
    "# received for returning those containers. Format the output so that it includes a dollar\n",
    "# sign and two digits to the right of the decimal point\n",
    "#$%.2f.\" % refund"
   ]
  },
  {
   "cell_type": "code",
   "execution_count": 33,
   "id": "7e6b73eb-1a7f-4555-a8d7-180772eaa7bf",
   "metadata": {},
   "outputs": [
    {
     "name": "stdin",
     "output_type": "stream",
     "text": [
      "Insert number of bottles equal or smaller than 1 liter here : 2\n",
      "Insert number of bottles greater than 1 liter here : 2\n"
     ]
    },
    {
     "name": "stdout",
     "output_type": "stream",
     "text": [
      "Your total refund is, 0.70, $\n"
     ]
    }
   ],
   "source": [
    "small = float(input(\"Insert number of bottles equal or smaller than 1 liter here :\"))\n",
    "big = float(input(\"Insert number of bottles greater than 1 liter here :\"))\n",
    "refund = float((small*0.10)+(big*0.25))\n",
    "fixed_refund = f\"{refund:.2f}\"\n",
    "print(f\"Your total refund is {refund:.2f} $\") "
   ]
  },
  {
   "cell_type": "code",
   "execution_count": null,
   "id": "2ff0045d-0611-4ab6-b0e0-9f6f9c0e9a10",
   "metadata": {},
   "outputs": [],
   "source": [
    "#Exercise 6: Tax andTip\n",
    "# Theprogramthat you create for this exercise will begin by reading the cost of a meal\n",
    "# ordered at a restaurant from the user. Then your program will compute the tax and\n",
    "# tip for the meal. Use your local tax rate when computing the amount of tax owing.\n",
    "# Computethe tip as 18 percent of the meal amount (without the tax). The output from\n",
    "# your program should include the tax amount, the tip amount, and the grand total for\n",
    "# the meal including both the tax and the tip. Format the output so that all of the values\n",
    "# are displayed using two decimal places"
   ]
  },
  {
   "cell_type": "code",
   "execution_count": 36,
   "id": "52eae6c3-d26a-4100-9224-00900fcd60d8",
   "metadata": {},
   "outputs": [
    {
     "name": "stdin",
     "output_type": "stream",
     "text": [
      "Insert cost of menu here : 7\n"
     ]
    },
    {
     "name": "stdout",
     "output_type": "stream",
     "text": [
      "the grand total for your meal is 9.66 $\n",
      "this includes taxes equivalent to 1.40 $\n",
      "and tips equivalent to 1.26 $\n"
     ]
    }
   ],
   "source": [
    "cost = float(input(\"Insert cost of menu here :\"))\n",
    "local_tax =  0.2*cost\n",
    "tip = 0.18*cost\n",
    "grand_total = cost + local_tax + tip\n",
    "print(f\"the grand total for your meal is {grand_total:.2f} $\")\n",
    "print(f\"this includes taxes equivalent to {local_tax:.2f} $\")\n",
    "print(f\"and tips equivalent to {tip:.2f} $\")"
   ]
  },
  {
   "cell_type": "code",
   "execution_count": null,
   "id": "79735711-ddab-4d1a-9874-01dabf1329b8",
   "metadata": {},
   "outputs": [],
   "source": [
    "#Exercise 7: SumoftheFirstn PositiveIntegers\n",
    "#Write a program that reads a positive integer, n, from the user and then displays the\n",
    "#sum of all of the integers from 1 to n. The sum of the first n positive integers can be\n",
    "#computed using the formula:\n",
    "# sum = (n)(n +1) / 2"
   ]
  },
  {
   "cell_type": "code",
   "execution_count": 42,
   "id": "f50bf40d-e607-4359-96aa-69c925c43710",
   "metadata": {},
   "outputs": [
    {
     "name": "stdin",
     "output_type": "stream",
     "text": [
      "insert value of n : 6\n"
     ]
    },
    {
     "name": "stdout",
     "output_type": "stream",
     "text": [
      "The sum of all of the integers from 1 to n is 21.0\n"
     ]
    }
   ],
   "source": [
    "n = int(input(\"insert value of n :\"))\n",
    "sum = (n*(n+1))/ 2\n",
    "print(\"The sum of all of the integers from 1 to n is\", sum)"
   ]
  },
  {
   "cell_type": "code",
   "execution_count": null,
   "id": "ad19c601-b239-40eb-89f7-3ca68bcb4486",
   "metadata": {},
   "outputs": [],
   "source": [
    "#Exercise 8: WidgetsandGizmos\n",
    "#An online retailer sells two products: widgets and gizmos. Each widget weighs 75\n",
    "#grams. Each gizmo weighs 112 grams. Write a program that reads the number of\n",
    "#widgetsandthenumberofgizmosfromtheuser.Thenyourprogramshouldcompute\n",
    "#and display the total weight of the parts"
   ]
  },
  {
   "cell_type": "code",
   "execution_count": 43,
   "id": "c2cb2ebb-fd2e-4e26-a81f-40621a0a5510",
   "metadata": {},
   "outputs": [
    {
     "name": "stdin",
     "output_type": "stream",
     "text": [
      "Insert number of gizmos here : 2\n",
      "Insert number of widgets here : 2\n"
     ]
    },
    {
     "name": "stdout",
     "output_type": "stream",
     "text": [
      "total weight of parts is : 374.0 grammes\n"
     ]
    }
   ],
   "source": [
    "gizmo = int(input(\"Insert number of gizmos here :\"))\n",
    "widget = float(input(\"Insert number of widgets here :\"))\n",
    "total_weight = (gizmo*112)+(widget*75)\n",
    "print(\"total weight of parts is :\", total_weight, \"grammes\")"
   ]
  },
  {
   "cell_type": "code",
   "execution_count": null,
   "id": "6a5e0a65-a631-435c-b71c-801e18b99a19",
   "metadata": {},
   "outputs": [],
   "source": [
    "#Exercise 9: CompoundInterest\n",
    "#Pretend that you have just opened a new savings account that earns 4 percent interest\n",
    "#per year. The interest that you earn is paid at the end of the year, and is added to the\n",
    "#balance of thesavings account. Writeaprogramthatbeginsbyreadingtheamountof\n",
    "#moneydeposited into the account from the user. Then your program should compute\n",
    "#and display the amount in the savings account after 1, 2, and 3 years. Display each\n",
    "#amount so that it is rounded to 2 decimal places"
   ]
  },
  {
   "cell_type": "code",
   "execution_count": 52,
   "id": "b53be5d0-8376-435b-a197-2e3bbf6194d5",
   "metadata": {},
   "outputs": [
    {
     "name": "stdin",
     "output_type": "stream",
     "text": [
      "insert amount of money in savings account here : 100\n"
     ]
    },
    {
     "name": "stdout",
     "output_type": "stream",
     "text": [
      "your total savings for year 1 is 104.0 $\n",
      "your total savings for year 2 is 108.16 $\n",
      "your total savings for year 3 is 112.49 $\n"
     ]
    }
   ],
   "source": [
    "balance = float(input(\"insert amount of money in savings account here :\"))\n",
    "earnings = 0\n",
    "for i in range(3):\n",
    "    earnings = round((balance*0.04),2)\n",
    "    balance = earnings + balance\n",
    "    print(\"your total savings for year\", i+1, \"is\", balance, \"$\")\n",
    "    "
   ]
  },
  {
   "cell_type": "code",
   "execution_count": null,
   "id": "c48e2e1e-82c8-44f7-bd86-3ac4ba1a1d34",
   "metadata": {},
   "outputs": [],
   "source": [
    "#Exercise 10: Arithmetic\n",
    "# Create a program that reads two integers,a and b,from the user. Your program should compute and display:\n",
    "# • The sum of a and b\n",
    "# • The difference when b is subtracted from a\n",
    "# • The product of a and b\n",
    "# • The quotient when a is divided by b\n",
    "# • The remainder when a is divided by b\n",
    "# • The result of log10 a\n",
    "# • The result of a^b"
   ]
  },
  {
   "cell_type": "code",
   "execution_count": 1,
   "id": "ae820594-bf04-4166-b189-9866af459052",
   "metadata": {},
   "outputs": [
    {
     "name": "stdin",
     "output_type": "stream",
     "text": [
      "a = 5\n",
      "b = 2\n"
     ]
    },
    {
     "name": "stdout",
     "output_type": "stream",
     "text": [
      "sum is 7\n",
      "difference is 3\n",
      "product is 10\n",
      "quotient is 2.5\n",
      "reamainder 1\n",
      "result of log10(a) is 0.6989700043360189\n",
      "result of a^b is 25\n"
     ]
    }
   ],
   "source": [
    "from math import log10\n",
    "a = int(input(\"a =\"))\n",
    "b = int(input(\"b =\"))\n",
    "print(\"sum is\", a + b)\n",
    "print(\"difference is\", a - b)\n",
    "print(\"product is\", a*b)\n",
    "print(\"quotient is\", a/b)\n",
    "print(\"reamainder\", a%b)\n",
    "print(\"result of log10(a) is\", log10(a))\n",
    "print(\"result of a^b is\", a**b)"
   ]
  },
  {
   "cell_type": "code",
   "execution_count": null,
   "id": "0f810dfb-19f8-419b-b777-581ab2cf9647",
   "metadata": {},
   "outputs": [],
   "source": [
    "# Exercise12:DistanceBetweenTwoPointsonEarth\n",
    "# Createaprogramthatallowstheusertoenterthelatitudeandlongitudeoftwo\n",
    "# pointsontheEarthindegrees.Yourprogramshoulddisplaythedistancebetween\n",
    "# thepoints,followingthesurfaceoftheearth,inkilometers"
   ]
  },
  {
   "cell_type": "code",
   "execution_count": 66,
   "id": "169ed66f-69ae-4875-a6c6-aee69599b3f1",
   "metadata": {},
   "outputs": [
    {
     "name": "stdout",
     "output_type": "stream",
     "text": [
      "0.6981317007977318\n",
      "9752.594866807904\n"
     ]
    }
   ],
   "source": [
    "\n",
    "from math import radians as rad\n",
    "from math import acos, sin, cos\n",
    "\n",
    "lo1 = rad(40)\n",
    "la1 = rad(160)\n",
    "lo2 = rad(-20)\n",
    "la2 = rad(-130)\n",
    "\n",
    "distance=6371.01 * (acos((sin(la1) * sin(la2)) + (cos(la1) * cos(la2) * cos(lo1 - lo2))))\n",
    "\n",
    "print(\"distance between two point is\", distance, \"kilometers\")"
   ]
  },
  {
   "cell_type": "code",
   "execution_count": 68,
   "id": "640d9be4-71ad-441f-8ce1-b7a845a299d1",
   "metadata": {},
   "outputs": [
    {
     "name": "stdin",
     "output_type": "stream",
     "text": [
      "insert longitude point in degrees (between 180° and -180°) 160\n",
      "insert latitude point in degrees (between 90° and -90°) 40\n",
      "insert longitude point in degrees (between 180° and -180°) 20\n",
      "insert latitude point in degrees (between 90° and -90°) 10\n"
     ]
    },
    {
     "name": "stdout",
     "output_type": "stream",
     "text": [
      "distance between two point is 13098.087016963202 kilometers\n"
     ]
    }
   ],
   "source": [
    "\n",
    "from math import radians as rad\n",
    "from math import acos, sin, cos\n",
    "\n",
    "lo1 = rad(int(input(\"insert longitude point in degrees (between 180° and -180°)\")))\n",
    "la1 = rad(int(input(\"insert latitude point in degrees (between 90° and -90°)\")))\n",
    "lo2 = rad(int(input(\"insert longitude point in degrees (between 180° and -180°)\")))\n",
    "la2 = rad(int(input(\"insert latitude point in degrees (between 90° and -90°)\")))\n",
    "\n",
    "distance=6371.01 * (acos((sin(la1) * sin(la2)) + (cos(la1) * cos(la2) * cos(lo1 - lo2))))\n",
    "\n",
    "print(\"distance between two point is\", distance, \"kilometers\")"
   ]
  },
  {
   "cell_type": "code",
   "execution_count": null,
   "id": "a3eb05cd-51e2-4e06-81a1-ff29a4392c75",
   "metadata": {},
   "outputs": [],
   "source": [
    "#Chapitre 2 : DecisionMaking"
   ]
  },
  {
   "cell_type": "code",
   "execution_count": null,
   "id": "9813314d-cd8b-43b9-939a-33fe15f8f479",
   "metadata": {},
   "outputs": [],
   "source": [
    "#Exercise 35:Even orOdd?\n",
    "#  Write a program that reads an integer from the user. Then your program should\n",
    "# display a message indicating whether the integer is even or odd"
   ]
  },
  {
   "cell_type": "code",
   "execution_count": 11,
   "id": "fbb384f8-004f-49e6-89d4-cd0a8db1e548",
   "metadata": {},
   "outputs": [
    {
     "name": "stdin",
     "output_type": "stream",
     "text": [
      "insert number here : 99\n"
     ]
    },
    {
     "name": "stdout",
     "output_type": "stream",
     "text": [
      "odd\n"
     ]
    }
   ],
   "source": [
    "integer = int(input(\"insert number here :\"))\n",
    " \n",
    "if integer%2 == 1 :\n",
    " print(\"odd\")\n",
    "else:\n",
    " print(\"even\")"
   ]
  },
  {
   "cell_type": "code",
   "execution_count": null,
   "id": "225316d1-50c8-48bb-a760-1900d7da855c",
   "metadata": {},
   "outputs": [],
   "source": [
    "# Exercise 36:DogYears\n",
    "# It is commonly said that one human year is equivalent to 7 dog years. However this\n",
    "# simple conversion fails to recognize that dogs reach adulthood in approximately two\n",
    "# years. As a result, some people believe that it is better to count each of the first two\n",
    "# human years as 10.5 dog years, and then count each additional human year as 4 dog\n",
    "# years.\n",
    "# Write a program that implements the conversion from human years to dog years\n",
    "# described in the previous paragraph. Ensure that your program works correctly for\n",
    "# conversions of less than two human years and for conversions of two or more human\n",
    "# years. Your program should display an appropriate error message if the user enters\n",
    "# a negative number."
   ]
  },
  {
   "cell_type": "code",
   "execution_count": 22,
   "id": "ba7f46f8-ea8a-48af-97b8-2174b21ee9ea",
   "metadata": {},
   "outputs": [
    {
     "name": "stdin",
     "output_type": "stream",
     "text": [
      "how old is your doge ?: 4\n"
     ]
    },
    {
     "name": "stdout",
     "output_type": "stream",
     "text": [
      "Your good boy is 29.0 old in human years\n"
     ]
    }
   ],
   "source": [
    "doggy = float(input(\"how old is your doge ?:\"))\n",
    "\n",
    "if doggy <= 2 and doggy > 0:\n",
    "  human_years = doggy * 10.5\n",
    "  print(\"Your good boy is\",human_years,\"old in human years\")           \n",
    "elif doggy > 2:\n",
    "  human_years_after_2 = 21 + ((doggy-2) * 4)\n",
    "  print(\"Your good boy is\",human_years_after_2,\"old in human years\")  \n",
    "else :\n",
    "  print(\"please insert a positive value\")"
   ]
  },
  {
   "cell_type": "code",
   "execution_count": null,
   "id": "589f6ace-a55b-44b6-bbe6-8885dabdf06a",
   "metadata": {},
   "outputs": [],
   "source": [
    "# Exercise 37:Vowel orConsonant\n",
    "# In this exercise you will create a program that reads a letter of the alphabet from the\n",
    "# user. If the user enters a, e, i, o or u then your program should display a message\n",
    "# indicating that the entered letter is a vowel. If the user enters y then your program\n",
    "# should display a message indicating that sometimes y is a vowel, and sometimes y is\n",
    "# a consonant. Otherwise your program should display a message indicating that the\n",
    "# letter is a consonant"
   ]
  },
  {
   "cell_type": "code",
   "execution_count": 69,
   "id": "024625b6-3731-4764-a745-704f0595abca",
   "metadata": {},
   "outputs": [
    {
     "name": "stdin",
     "output_type": "stream",
     "text": [
      "insert a letter here please : y\n"
     ]
    },
    {
     "name": "stdout",
     "output_type": "stream",
     "text": [
      "the letter y is sometimes a vowel sometimes a consonant.\n"
     ]
    }
   ],
   "source": [
    "text = str(input(\"insert a letter here please :\"))\n",
    "\n",
    "if text in \"aeiou\":\n",
    "  print(\"the letter\",text,\"is a vowel.\")           \n",
    "elif \"y\" in text :\n",
    "  print(\"the letter\",text,\"is sometimes a vowel sometimes a consonant.\")  \n",
    "else :\n",
    "  print(\"the letter\",text,\"is a consonant.\")"
   ]
  },
  {
   "cell_type": "code",
   "execution_count": null,
   "id": "73516b6e-2938-45ca-9b72-163506e11fd7",
   "metadata": {},
   "outputs": [],
   "source": [
    "#Exercise 38:NameThatShape\n",
    " \n",
    "#Write a program that determines the name of a shape from its number of sides. Read\n",
    "#the number of sides from the user and then report the appropriate name as part of\n",
    "#a meaningful message. Your program should support shapes with anywhere from 3\n",
    "#up to (and including) 10 sides. If a number of sides outside of this range is entered\n",
    "#then your program should display an appropriate error message"
   ]
  },
  {
   "cell_type": "code",
   "execution_count": 66,
   "id": "50701944-a2aa-441b-af7f-6a292fdf2d1b",
   "metadata": {},
   "outputs": [
    {
     "name": "stdin",
     "output_type": "stream",
     "text": [
      "Insert the number of sides contained in your shape: 4\n"
     ]
    },
    {
     "name": "stdout",
     "output_type": "stream",
     "text": [
      "your shape is a square\n"
     ]
    }
   ],
   "source": [
    "ns = int(input(\"Insert the number of sides contained in your shape:\"))\n",
    "if ns == 3 :\n",
    "  print(f\"your shape is a triangle\")\n",
    "elif ns == 4 :\n",
    "  print(f\"your shape is a square\")\n",
    "elif ns == 5 :\n",
    "  print(f\"your shape is a pentagon\")\n",
    "elif ns == 6 :\n",
    "  print(f\"your shape is a hexagon\")\n",
    "elif ns == 7 :\n",
    "  print(f\"your shape is a heptagon\")\n",
    "elif ns == 8 :\n",
    "  print(f\"your shape is a octagon\")\n",
    "elif ns == 9 :\n",
    "  print(f\"your shape is a nonagon\")\n",
    "elif ns == 10 :\n",
    "  print(f\"your shape is a decagon\")\n",
    "else :\n",
    "  print(\"Please insert a value between 3 up to (and including) 10\")"
   ]
  },
  {
   "cell_type": "code",
   "execution_count": null,
   "id": "01fe6b0c-ea98-4aa2-99ec-0e104aabaf63",
   "metadata": {},
   "outputs": [],
   "source": [
    "#Exercise 41:ClassifyingTriangles\n",
    "\n",
    "# Atrianglecanbeclassifiedbasedonthelengthsofitssidesasequilateral,isoscelesor\n",
    "# scalene. All three sides of an equilateral triangle have the same length. An isosceles\n",
    "# triangle has two sides that are the same length, and a third side that is a different\n",
    "# length. If all of the sides have different lengths then the triangle is scalene.\n",
    "# Write a program that reads the lengths of the three sides of a triangle from the\n",
    "# user. Then display a message that states the triangle’s type"
   ]
  },
  {
   "cell_type": "code",
   "execution_count": 75,
   "id": "f96a0799-2492-433a-8797-6319f1b177b4",
   "metadata": {},
   "outputs": [
    {
     "name": "stdin",
     "output_type": "stream",
     "text": [
      "first side = 2\n",
      "second side = 3\n",
      "third side = 4\n"
     ]
    },
    {
     "name": "stdout",
     "output_type": "stream",
     "text": [
      "scalene triangle\n"
     ]
    }
   ],
   "source": [
    "a = int(input(\"first side =\"))\n",
    "b = int(input(\"second side =\"))\n",
    "c = int(input(\"third side =\"))\n",
    "\n",
    "if a == b and b == c :\n",
    "  print(\"equilateral triangle\")\n",
    "elif (a == b or b == c or c == a) : \n",
    "  print (\"isosceles triangle\")\n",
    "else :\n",
    "    print(\"scalene triangle\")\n"
   ]
  },
  {
   "cell_type": "code",
   "execution_count": null,
   "id": "fa6546b7-45c4-466e-93cd-8f308cae782f",
   "metadata": {},
   "outputs": [],
   "source": [
    "#Exercise 45:Date to HolidayName\n",
    "#\n",
    "#Canada has three national holidays which fall on the same dates each year.\n",
    "#Holiday        Date\n",
    "#New Year’s Day January 1\n",
    "#Canada Day     July 1\n",
    "#Christmas Day  December 25\n",
    " \n",
    "# Write a program that reads a month and day from the user. If the month and day\n",
    "# match one of the holidays listed previously then your program should display the\n",
    "# holiday’s name. Otherwise your program should indicate that the entered month and\n",
    "# day do not correspond to a fixed-date holiday"
   ]
  },
  {
   "cell_type": "code",
   "execution_count": 87,
   "id": "643a7068-2b8a-4d44-ab69-bb0ff32a0ad3",
   "metadata": {},
   "outputs": [
    {
     "name": "stdin",
     "output_type": "stream",
     "text": [
      "insert month in digits here : 2\n",
      "insert day of the month in digits here : 2\n"
     ]
    },
    {
     "name": "stdout",
     "output_type": "stream",
     "text": [
      "the 2 , 2 , 2024 is just another normal day :,(\n"
     ]
    }
   ],
   "source": [
    "month = int(input(\"insert month in digits here :\"))\n",
    "day = int(input(\"insert day of the month in digits here :\"))\n",
    "\n",
    "d = (2024, month, day)\n",
    "\n",
    "if d[2] == 1 and d[1] == 1 :\n",
    "    print(\"Happy new year !!!\")\n",
    "elif d[2] == 1 and d[1] == 7 :\n",
    "    print(\"Happy Canada day !!!\")\n",
    "elif d[2] == 25 and d[1] == 12 : \n",
    "    print(\"HO HO HO Merry Christmas !\")\n",
    "else :\n",
    "    print(\"the\", d[2],\",\",d[1],\",\",d[0], \"is just another normal day :,(\")\n",
    "    "
   ]
  },
  {
   "cell_type": "code",
   "execution_count": null,
   "id": "90ebdf55-6d20-4d2f-95df-0d8af45bfb3e",
   "metadata": {},
   "outputs": [],
   "source": [
    "# Exercise 46:What Color Is That Square?"
   ]
  },
  {
   "cell_type": "code",
   "execution_count": 133,
   "id": "f48cce4c-1114-4e38-a8b3-ecd8f462689d",
   "metadata": {},
   "outputs": [
    {
     "name": "stdin",
     "output_type": "stream",
     "text": [
      "what is the location of your piece : A1\n"
     ]
    },
    {
     "name": "stdout",
     "output_type": "stream",
     "text": [
      "black\n"
     ]
    }
   ],
   "source": [
    "import string\n",
    "\n",
    "case = input(\"what is the location of your piece :\")\n",
    "\n",
    "letter = (case[0]).lower()\n",
    "number = int(case[1])\n",
    "\n",
    "alphabet = list(string.ascii_lowercase)\n",
    "\n",
    "i = 0\n",
    "\n",
    "for i in range(len(alphabet)):\n",
    "    if alphabet[i] == letter :\n",
    "     new = i + 1\n",
    "     newnew = number + new\n",
    "    elif i > 25 :\n",
    "     break\n",
    "\n",
    "if newnew%2 == 1 :\n",
    "  print(\"white\")\n",
    "else:\n",
    "  print(\"black\")\n",
    "\n",
    "#autre méthode\n",
    "#letters = \"abcdefgh\"\n",
    "#letter = letters.find(letter)\n",
    "\n",
    "#if (letter + number) % 2 == 1\n",
    "#print..etc\n"
   ]
  },
  {
   "cell_type": "code",
   "execution_count": null,
   "id": "f8f17ce7-47f4-4435-9bdb-f0fe77fae8ee",
   "metadata": {},
   "outputs": [],
   "source": [
    "#Chapitre 3 : repetitions "
   ]
  },
  {
   "cell_type": "code",
   "execution_count": null,
   "id": "3e824e6d-23dc-4f3d-ad45-cc3515e2d21f",
   "metadata": {},
   "outputs": [],
   "source": [
    "# Exercise 63:Average\n",
    "#In this exercise you will create a program that computes the average of a collection\n",
    "#of values entered by the user. The user will enter 0 as a sentinel value to indicate\n",
    "#that no further values will be provided. Your program should display an appropriate\n",
    "#error message if the first value entered by the user is 0"
   ]
  },
  {
   "cell_type": "code",
   "execution_count": 1,
   "id": "10e0b6b0-b62c-4d5c-8394-2017417849d5",
   "metadata": {},
   "outputs": [
    {
     "name": "stdin",
     "output_type": "stream",
     "text": [
      "Insert a series of values with the number 0 as your last value : 12340\n"
     ]
    },
    {
     "name": "stdout",
     "output_type": "stream",
     "text": [
      "average of the list is 2.5\n"
     ]
    }
   ],
   "source": [
    "values = input(\"Insert a series of values with the number \"\"0\"\" as your last value :\" )\n",
    "\n",
    "if values[0] == \"0\" :\n",
    "  print(\"please do not start your series of values with \"\"0\"\".\")\n",
    "else :\n",
    " new_values = values[:-1]\n",
    " result = []\n",
    "\n",
    " for char in str(new_values):\n",
    "    result.append(int(char))\n",
    "\n",
    " average = sum(result) / (len(result))   \n",
    " print(\"average of the list is\",average)"
   ]
  },
  {
   "cell_type": "code",
   "execution_count": 7,
   "id": "3934fe2e-704b-43e2-bc1f-f02615b4e4c0",
   "metadata": {},
   "outputs": [
    {
     "name": "stdin",
     "output_type": "stream",
     "text": [
      "enter number:  1\n",
      "enter another number:  2\n",
      "enter another number:  3\n",
      "enter another number:  4\n",
      "enter another number:  5\n",
      "enter another number:  0\n"
     ]
    },
    {
     "name": "stdout",
     "output_type": "stream",
     "text": [
      "average of the list is 3.0\n"
     ]
    }
   ],
   "source": [
    "message = input(\"enter number: \")\n",
    "numbers = []\n",
    "\n",
    "if message[0] == \"0\" :\n",
    "  print(\"please do not start your series of values with \"\"0\"\".\")\n",
    "else :\n",
    "  while message != \"0\":\n",
    "    \n",
    "    numbers.append(int(message))\n",
    "    message = input(\"enter another number: \")\n",
    "  result = numbers\n",
    "\n",
    "  average = sum(result) / (len(result))   \n",
    "  print(\"average of the list is\",average)\n"
   ]
  },
  {
   "cell_type": "code",
   "execution_count": null,
   "id": "50b2593a-9e75-43b5-bdf8-b2cb4433bc5f",
   "metadata": {},
   "outputs": [],
   "source": [
    "#Exercise 64:DiscountTable\n",
    "#A particular retailer is having a 60 percent off sale on a variety of discontinued\n",
    "# products. The retailer would like to help its customers determine the reduced price\n",
    "# of the merchandise by having a printed discount table on the shelf that shows the\n",
    "#original prices and the prices after the discount has been applied. Write a program that\n",
    "#uses a loop to generate this table, showing the original price, the discount amount,\n",
    "#and the new price for purchases of $4.95, $9.95, $14.95, $19.95 and $24.95. Ensure\n",
    "#that the discount amounts and the new prices are rounded to 2 decimal places when\n",
    "#they are displayed"
   ]
  },
  {
   "cell_type": "code",
   "execution_count": 17,
   "id": "e03c6e27-1627-4e89-887a-2281e315e87c",
   "metadata": {},
   "outputs": [
    {
     "name": "stdout",
     "output_type": "stream",
     "text": [
      "the original prices of our articles are [4.95, 9.95, 14.95, 19.95, 24.95]\n",
      "the disounts on those articles are [2.97, 5.97, 8.97, 11.97, 14.97]\n",
      "the new prices of our articles are [1.98, 3.98, 5.98, 7.98, 9.98]\n"
     ]
    }
   ],
   "source": [
    "purchases = [4.95, 9.95, 14.95, 19.95, 24.95]\n",
    "\n",
    "discounts = []\n",
    "new_prices = []\n",
    "\n",
    "for i in range(len(purchases)) :\n",
    "    discount = round((purchases[i] * 0.6),2)\n",
    "    discounts.append(discount)\n",
    "    new_price = round((purchases[i] - discount),2)\n",
    "    new_prices.append(new_price)\n",
    "\n",
    "print(f\"the original prices of our articles are {purchases}\")\n",
    "print(f\"the disounts on those articles are {discounts}\")\n",
    "print(f\"the new prices of our articles are {new_prices}\")"
   ]
  },
  {
   "cell_type": "code",
   "execution_count": null,
   "id": "71b5f978-4e95-44dd-b4d4-1722527f9885",
   "metadata": {},
   "outputs": [],
   "source": []
  },
  {
   "cell_type": "code",
   "execution_count": null,
   "id": "260eee9f-d27e-4267-aa84-b1791d23616c",
   "metadata": {},
   "outputs": [],
   "source": []
  },
  {
   "cell_type": "code",
   "execution_count": null,
   "id": "cc991196-3aa4-4933-b29d-a83ef3f9a0d5",
   "metadata": {},
   "outputs": [],
   "source": []
  },
  {
   "cell_type": "code",
   "execution_count": null,
   "id": "f8097cbe-1e43-4ff8-9082-4dbb1e2418b1",
   "metadata": {},
   "outputs": [],
   "source": [
    "#Chapitre 5: Lists\n"
   ]
  },
  {
   "cell_type": "code",
   "execution_count": null,
   "id": "258f8e3f-a90e-4246-8afc-df5e81924d47",
   "metadata": {},
   "outputs": [],
   "source": [
    "\n",
    "# Exercise 110:Sorted Order\n",
    "'''\n",
    " Write a program that reads integers from the user and stores them in a list. Your\n",
    " program should continue reading values until the user enters 0.Then it should display\n",
    " all of the values entered by the user (except for the 0) in ascending order, with one\n",
    " value appearing on each line. Use either the sort method or the sorted function\n",
    " to sort the list\n",
    "'''"
   ]
  },
  {
   "cell_type": "code",
   "execution_count": 8,
   "id": "7fda1f41-cd37-4474-984a-85a819f9cc19",
   "metadata": {},
   "outputs": [
    {
     "name": "stdin",
     "output_type": "stream",
     "text": [
      "insert a number, enter (0) to stop 2\n",
      "insert a number, enter (0) to stop 1\n",
      "insert a number, enter (0) to stop 6\n",
      "insert a number, enter (0) to stop 9\n",
      "insert a number, enter (0) to stop 0\n"
     ]
    },
    {
     "name": "stdout",
     "output_type": "stream",
     "text": [
      "[1, 2, 6, 9]\n"
     ]
    }
   ],
   "source": [
    "n = int(input(\"insert a number, enter (0) to stop\"))\n",
    "integers = []\n",
    "\n",
    "while n != 0 :\n",
    "    integers.append(n)\n",
    "    n = int(input(\"insert a number, enter (0) to stop\"))\n",
    "   \n",
    "integers.sort()\n",
    "print(integers)"
   ]
  },
  {
   "cell_type": "code",
   "execution_count": null,
   "id": "419e9dd0-ad72-427d-8504-6d25da5cd0dd",
   "metadata": {},
   "outputs": [],
   "source": [
    "# Exercise 112:Remove Outliers\n",
    "\"\"\"\n",
    "When analysing data collected as part of a science experiment it may be desirable\n",
    " to remove the most extreme values before performing other calculations. Write a\n",
    " function that takes a list of values and an non-negative integer, n, as its parameters.\n",
    " The function should create a new copy of the list with the n largest elements and the\n",
    " n smallest elements removed. Then it should return the new copy of the list as the\n",
    " function’s only result. The order of the elements in the returned list does not have to\n",
    " match the order of the elements in the original list.\n",
    " Write a main program that demonstrates your function. It should read a list of\n",
    " numbers fromtheuser and remove the two largest and two smallest values from it by\n",
    " calling the function described previously. Display the list with the outliers removed,\n",
    " followed by the original list. Your program should generate an appropriate error\n",
    " message if the user enters less than 4 values\n",
    "\"\"\""
   ]
  },
  {
   "cell_type": "code",
   "execution_count": 47,
   "id": "1efe2a57-1b0f-4f95-ab27-3fb0c845d5b9",
   "metadata": {},
   "outputs": [
    {
     "name": "stdin",
     "output_type": "stream",
     "text": [
      "insert number here, enter (0) to stop 9\n",
      "insert number here 2\n"
     ]
    },
    {
     "name": "stdout",
     "output_type": "stream",
     "text": [
      "[9]\n"
     ]
    },
    {
     "name": "stdin",
     "output_type": "stream",
     "text": [
      "insert number here 3\n"
     ]
    },
    {
     "name": "stdout",
     "output_type": "stream",
     "text": [
      "[9, 2]\n"
     ]
    },
    {
     "name": "stdin",
     "output_type": "stream",
     "text": [
      "insert number here 7\n"
     ]
    },
    {
     "name": "stdout",
     "output_type": "stream",
     "text": [
      "[9, 2, 3]\n"
     ]
    },
    {
     "name": "stdin",
     "output_type": "stream",
     "text": [
      "insert number here 5\n"
     ]
    },
    {
     "name": "stdout",
     "output_type": "stream",
     "text": [
      "[9, 2, 3, 7]\n"
     ]
    },
    {
     "name": "stdin",
     "output_type": "stream",
     "text": [
      "insert number here 4\n"
     ]
    },
    {
     "name": "stdout",
     "output_type": "stream",
     "text": [
      "[9, 2, 3, 7, 5]\n"
     ]
    },
    {
     "name": "stdin",
     "output_type": "stream",
     "text": [
      "insert number here 3\n"
     ]
    },
    {
     "name": "stdout",
     "output_type": "stream",
     "text": [
      "[9, 2, 3, 7, 5, 4]\n"
     ]
    },
    {
     "name": "stdin",
     "output_type": "stream",
     "text": [
      "insert number here 9\n"
     ]
    },
    {
     "name": "stdout",
     "output_type": "stream",
     "text": [
      "[9, 2, 3, 7, 5, 4, 3]\n"
     ]
    },
    {
     "name": "stdin",
     "output_type": "stream",
     "text": [
      "insert number here 3\n"
     ]
    },
    {
     "name": "stdout",
     "output_type": "stream",
     "text": [
      "[9, 2, 3, 7, 5, 4, 3, 9]\n"
     ]
    },
    {
     "name": "stdin",
     "output_type": "stream",
     "text": [
      "insert number here 6\n"
     ]
    },
    {
     "name": "stdout",
     "output_type": "stream",
     "text": [
      "[9, 2, 3, 7, 5, 4, 3, 9, 3]\n"
     ]
    },
    {
     "name": "stdin",
     "output_type": "stream",
     "text": [
      "insert number here 0\n"
     ]
    },
    {
     "name": "stdout",
     "output_type": "stream",
     "text": [
      "[9, 2, 3, 7, 5, 4, 3, 9, 3, 6]\n",
      "above the original list, below, the list eliminating the outliers \n",
      " [3, 3, 4, 5, 6, 7]\n"
     ]
    }
   ],
   "source": [
    "nu = int(input(\"insert number here, enter (0) to stop\"))\n",
    "listing = []\n",
    "while nu != 0:     \n",
    "    listing.append(nu)\n",
    "    nu = int(input(\"insert number here\"))\n",
    "    print(listing)\n",
    "\n",
    "if len(listing) < 4:\n",
    "      raise ValueError(\"Please insert more than 3 values\")\n",
    "\n",
    "original_list = listing\n",
    "lister = []\n",
    "def eliminate(lister,n) :\n",
    "\n",
    "  j = 0\n",
    "  lister.sort()\n",
    "  while j < n :\n",
    "      lister.pop(0)\n",
    "      lister.pop()\n",
    "      j = j + 1\n",
    "  return (lister)\n",
    "\n",
    "print(\"above the original list, below, the list eliminating the outliers\",\"\\n\", eliminate(listing,2))"
   ]
  },
  {
   "cell_type": "code",
   "execution_count": null,
   "id": "76075285-570f-46d2-beea-c5f34f3732c8",
   "metadata": {},
   "outputs": [],
   "source": [
    "#Exercise 113:Avoiding Duplicates\n",
    "\"\"\" \n",
    " In this exercise, you will create a program that reads words from the user until the\n",
    " user enters a blank line. After the user enters a blank line your program should dis\n",
    " play each word entered by the user exactly once. The words should be displayed in\n",
    " the same order that they were first entered. For example, if the user enters:\n",
    "\n",
    " first\n",
    " second\n",
    " first\n",
    " third\n",
    " second\n",
    " \n",
    " then your program should display:\n",
    " \n",
    " first\n",
    " second\n",
    " third\n",
    " \n",
    "\"\"\""
   ]
  },
  {
   "cell_type": "code",
   "execution_count": 33,
   "id": "6e08bbee-65da-4954-b323-0d28e86cdbea",
   "metadata": {},
   "outputs": [
    {
     "name": "stdin",
     "output_type": "stream",
     "text": [
      "insert words here : un\n",
      "insert words here (blank to stop): deux\n",
      "insert words here (blank to stop): un\n",
      "insert words here (blank to stop): trois\n",
      "insert words here (blank to stop): deux\n",
      "insert words here (blank to stop): \n"
     ]
    },
    {
     "name": "stdout",
     "output_type": "stream",
     "text": [
      "the original list is : ['un', 'deux', 'un', 'trois', 'deux']\n",
      "the duplicate-less list is : {'un', 'deux', 'trois'}\n"
     ]
    }
   ],
   "source": [
    "words = input(\"insert words here :\").lower()\n",
    "\n",
    "wordlist = []\n",
    "while words != \"\":\n",
    "    wordlist.append(words)\n",
    "    words = input(\"insert words here (blank to stop):\").lower()\n",
    "\n",
    "newwordlist = set(wordlist)\n",
    "\n",
    "print(\"the original list is :\",wordlist)\n",
    "print(\"the duplicate-less list is :\",newwordlist)"
   ]
  },
  {
   "cell_type": "code",
   "execution_count": 34,
   "id": "8ade5bad-4413-4448-a5a3-382e95b4a07e",
   "metadata": {},
   "outputs": [
    {
     "name": "stdout",
     "output_type": "stream",
     "text": [
      "let's go\n"
     ]
    }
   ],
   "source": []
  },
  {
   "cell_type": "code",
   "execution_count": null,
   "id": "f06de159-34ef-436f-947c-793f7fb2fd34",
   "metadata": {},
   "outputs": [],
   "source": [
    "#Exercise 114:Negatives,Zeros and Positives\n",
    "\"\"\"\n",
    " Create a program that reads integers from the user until a blank line is entered. Once\n",
    " all of the integers have been read your program should display all of the negative\n",
    " numbers,followedbyallofthezeros,followedbyallofthepositivenumbers.Within\n",
    " each group the numbersshouldbedisplayed in the sameorderthat they wereentered\n",
    " by the user. For example, if the user enters the values 3,-4, 1, 0,-1, 0, and-2 then\n",
    " your program should output the values-4,-1,-2, 0, 0, 3, and 1. Your program\n",
    " should display each value on its own line.\n",
    "\"\"\""
   ]
  },
  {
   "cell_type": "code",
   "execution_count": 57,
   "id": "ab5b7084-88f3-4811-a68f-6d686cb5127d",
   "metadata": {},
   "outputs": [
    {
     "name": "stdin",
     "output_type": "stream",
     "text": [
      "insert number (99 to stop): 1\n",
      "insert number (99 to stop): 0\n",
      "insert number (99 to stop): 0\n",
      "insert number (99 to stop): 0\n",
      "insert number (99 to stop): -1\n",
      "insert number (99 to stop): 99\n"
     ]
    },
    {
     "name": "stdout",
     "output_type": "stream",
     "text": [
      "list [0, 0, 0, -1, 99]\n",
      "negative [-1]\n",
      "zero [0, 0, 0]\n",
      "positive [99]\n"
     ]
    }
   ],
   "source": [
    "ints = int(input(\"insert number (99 to stop):\"))\n",
    "\n",
    "intlist = []\n",
    "neglist = []\n",
    "zerolist = []\n",
    "poslist = []\n",
    "\n",
    "while ints != 99:\n",
    "    ints = int(input(\"insert number (99 to stop):\"))\n",
    "    intlist.append(ints)\n",
    "    \n",
    "    if ints < 0:\n",
    "      neglist.append(ints)\n",
    "\n",
    "    elif ints == 0:\n",
    "      zerolist.append(ints)\n",
    "    \n",
    "    else :\n",
    "      poslist.append(ints)\n",
    "\n",
    "print(\"list\",intlist)\n",
    "print(\"negative\",neglist)\n",
    "print(\"zero\",zerolist)\n",
    "print(\"positive\",poslist)\n",
    "\n",
    "#probleme avec le \"\", qui est un string et non un integer."
   ]
  },
  {
   "cell_type": "code",
   "execution_count": null,
   "id": "f27f698a-4999-4d1c-988c-1d1157aacb7b",
   "metadata": {},
   "outputs": [],
   "source": []
  },
  {
   "cell_type": "code",
   "execution_count": null,
   "id": "a9699c26-8fe1-431a-b92d-ddf15b473a44",
   "metadata": {},
   "outputs": [],
   "source": []
  },
  {
   "cell_type": "code",
   "execution_count": null,
   "id": "8e3b15b5-0621-4b46-a94c-7489b18b8adb",
   "metadata": {},
   "outputs": [],
   "source": [
    "#Chapitre 6: dictionaries"
   ]
  },
  {
   "cell_type": "code",
   "execution_count": null,
   "id": "f6dee2f2-7853-452a-aefd-7e3e8a6d9bcd",
   "metadata": {},
   "outputs": [],
   "source": [
    "#Exercise 145: Scrabble™Score\n",
    "\n"
   ]
  },
  {
   "cell_type": "code",
   "execution_count": 51,
   "id": "62c1e583-4ac0-47d6-a4da-2702ac13371f",
   "metadata": {},
   "outputs": [
    {
     "name": "stdout",
     "output_type": "stream",
     "text": [
      "A 's value is: 1\n",
      "B 's value is: 3\n",
      "C 's value is: 3\n",
      "D 's value is: 2\n",
      "E 's value is: 1\n",
      "F 's value is: 4\n",
      "G 's value is: 2\n",
      "H 's value is: 4\n",
      "I 's value is: 1\n",
      "J 's value is: 2\n",
      "K 's value is: 5\n",
      "L 's value is: 1\n",
      "M 's value is: 3\n",
      "N 's value is: 1\n",
      "O 's value is: 1\n",
      "P 's value is: 3\n",
      "Q 's value is: 10\n",
      "R 's value is: 1\n",
      "S 's value is: 1\n",
      "T 's value is: 1\n",
      "U 's value is: 1\n",
      "V 's value is: 4\n",
      "W 's value is: 4\n",
      "X 's value is: 8\n",
      "Y 's value is: 4\n",
      "Z 's value is: 10\n"
     ]
    },
    {
     "name": "stdin",
     "output_type": "stream",
     "text": [
      "insert words here : pomme\n"
     ]
    },
    {
     "name": "stdout",
     "output_type": "stream",
     "text": [
      "11\n"
     ]
    }
   ],
   "source": [
    "scrabble = {\"A\": 1, \"B\": 3, \"C\": 3, \"D\": 2, \"E\": 1, \"F\": 4, \\\n",
    "\"G\": 2, \"H\": 4, \"I\": 1, \"J\": 2, \"K\": 5, \"L\": 1, \\\n",
    "\"M\": 3, \"N\": 1, \"O\": 1, \"P\": 3, \"Q\": 10, \"R\": 1, \\\n",
    "\"S\": 1, \"T\": 1, \"U\": 1, \"V\": 4, \"W\": 4, \"X\": 8,\n",
    "\"Y\": 4, \"Z\": 10}\n",
    "\n",
    "for letter in scrabble :\n",
    "    print(letter,\"'s value is:\",scrabble[letter])\n",
    "\n",
    "word = input(\"insert words here :\").upper()\n",
    "\n",
    "score = 0\n",
    "for char in word :\n",
    "    score = score + scrabble[char]\n",
    "\n",
    "print(score)"
   ]
  }
 ],
 "metadata": {
  "kernelspec": {
   "display_name": "Python 3 (ipykernel)",
   "language": "python",
   "name": "python3"
  },
  "language_info": {
   "codemirror_mode": {
    "name": "ipython",
    "version": 3
   },
   "file_extension": ".py",
   "mimetype": "text/x-python",
   "name": "python",
   "nbconvert_exporter": "python",
   "pygments_lexer": "ipython3",
   "version": "3.12.4"
  }
 },
 "nbformat": 4,
 "nbformat_minor": 5
}
